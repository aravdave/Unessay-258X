{
 "cells": [
  {
   "cell_type": "code",
   "execution_count": 51,
   "metadata": {},
   "outputs": [],
   "source": [
    "import pandas as pd\n",
    "import os\n",
    "import re\n",
    "\n",
    "rootdir = \"/home/arav/Unessay/\"\n",
    "\n",
    "regex_demo = re.compile('.*Demo.*')\n",
    "regex_immu = re.compile('.*Immu.*')\n",
    "\n",
    "list_of_demo_names = []\n",
    "list_of_immu_names = []\n",
    "\n",
    "for root, dirs, files in os.walk(rootdir):\n",
    "  for file in files:\n",
    "    if regex_demo.match(file):\n",
    "      list_of_demo_names.append(file)\n",
    "list_of_demo_names.sort()\n",
    "\n",
    "for root, dirs, files in os.walk(rootdir):\n",
    "  for file in files:\n",
    "    if regex_immu.match(file):\n",
    "      list_of_immu_names.append(file)\n",
    "list_of_immu_names.sort()\n",
    " \n",
    "  \n",
    "# df_99_00_demo = pd.read_csv(\"./1999_2000_Demo_NHANES.csv\").loc[:, ['SEQN', ]]"
   ]
  },
  {
   "cell_type": "code",
   "execution_count": 77,
   "metadata": {},
   "outputs": [
    {
     "data": {
      "text/html": [
       "<div>\n",
       "<style scoped>\n",
       "    .dataframe tbody tr th:only-of-type {\n",
       "        vertical-align: middle;\n",
       "    }\n",
       "\n",
       "    .dataframe tbody tr th {\n",
       "        vertical-align: top;\n",
       "    }\n",
       "\n",
       "    .dataframe thead th {\n",
       "        text-align: right;\n",
       "    }\n",
       "</style>\n",
       "<table border=\"1\" class=\"dataframe\">\n",
       "  <thead>\n",
       "    <tr style=\"text-align: right;\">\n",
       "      <th></th>\n",
       "      <th>SEQN</th>\n",
       "      <th>IMQ020</th>\n",
       "    </tr>\n",
       "  </thead>\n",
       "  <tbody>\n",
       "  </tbody>\n",
       "</table>\n",
       "</div>"
      ],
      "text/plain": [
       "Empty DataFrame\n",
       "Columns: [SEQN, IMQ020]\n",
       "Index: []"
      ]
     },
     "execution_count": 77,
     "metadata": {},
     "output_type": "execute_result"
    }
   ],
   "source": [
    "df_99_00_demo = pd.read_csv(\"2009-2010_Immu_NHANES.csv\").loc[:, ['SEQN', 'IMQ020']]\n",
    "df_99_00_demo = df_99_00_demo.loc[df_99_00_demo[\"IMQ020\"] == \".\"]\n",
    "df_99_00_demo"
   ]
  },
  {
   "cell_type": "code",
   "execution_count": 52,
   "metadata": {},
   "outputs": [],
   "source": [
    "col_names_across_demo_data = list()\n",
    "for i in range(0,len(list_of_demo_names)-1):\n",
    "  first_df = list(pd.read_csv(\"./\" + list_of_demo_names[i]).columns.values)\n",
    "  second_df = list(pd.read_csv(\"./\" + list_of_demo_names[i+1]).columns.values)\n",
    "  col_names_across_demo_data += first_df\n",
    "  col_names_across_demo_data += second_df\n",
    "demo_col_count = pd.Series(col_names_across_demo_data).value_counts()"
   ]
  },
  {
   "cell_type": "code",
   "execution_count": 53,
   "metadata": {},
   "outputs": [],
   "source": [
    "col_names_across_immu_data = list()\n",
    "for i in range(0,len(list_of_immu_names)-1):\n",
    "  first_df = list(pd.read_csv(\"./\" + list_of_immu_names[i]).columns.values)\n",
    "  second_df = list(pd.read_csv(\"./\" + list_of_immu_names[i+1]).columns.values)\n",
    "  col_names_across_immu_data += first_df\n",
    "  col_names_across_immu_data += second_df\n",
    "immu_col_count = pd.Series(col_names_across_immu_data).value_counts()"
   ]
  },
  {
   "cell_type": "code",
   "execution_count": 54,
   "metadata": {},
   "outputs": [
    {
     "data": {
      "text/plain": [
       "1.0         2\n",
       "71755.0     2\n",
       "71754.0     2\n",
       "71753.0     2\n",
       "71752.0     2\n",
       "           ..\n",
       "35869.0     2\n",
       "35868.0     2\n",
       "35867.0     2\n",
       "35891.0     2\n",
       "124822.0    2\n",
       "Length: 107622, dtype: int64"
      ]
     },
     "execution_count": 54,
     "metadata": {},
     "output_type": "execute_result"
    }
   ],
   "source": [
    "# Check that all SEQN numbers are unique across demographic and immunization data\n",
    "SEQN_list = []\n",
    "for i in range(0, len(list_of_demo_names)):\n",
    "  df = list(pd.read_csv(\"./\" + list_of_demo_names[i]).SEQN)\n",
    "  SEQN_list += df\n",
    "  \n",
    "for i in range(0, len(list_of_immu_names)):\n",
    "  df = list(pd.read_csv(\"./\" + list_of_immu_names[i]).SEQN)\n",
    "  SEQN_list += df\n",
    "\n",
    "SEQN_list.sort()\n",
    "SEQN_unique_sanity_check = pd.Series(SEQN_list).value_counts(ascending=True)\n",
    "SEQN_unique_sanity_check\n",
    "\n",
    "# This confirms that each participant number is used twice in both the demographic and immunization data"
   ]
  },
  {
   "cell_type": "code",
   "execution_count": 83,
   "metadata": {},
   "outputs": [
    {
     "name": "stdout",
     "output_type": "stream",
     "text": [
      "0    5903\n",
      "1    4062\n",
      "Name: Received At Least One Dose of Hepatitis B Vaccine, dtype: int64\n",
      "0    5942\n",
      "1    5097\n",
      "Name: Received At Least One Dose of Hepatitis B Vaccine, dtype: int64\n",
      "1    5204\n",
      "0    4918\n",
      "Name: Received At Least One Dose of Hepatitis B Vaccine, dtype: int64\n",
      "1    5831\n",
      "0    4517\n",
      "Name: Received At Least One Dose of Hepatitis B Vaccine, dtype: int64\n",
      "0    5121\n",
      "1    5028\n",
      "Name: Received At Least One Dose of Hepatitis B Vaccine, dtype: int64\n",
      "1    5372\n",
      "0    5165\n",
      "Name: Received At Least One Dose of Hepatitis B Vaccine, dtype: int64\n",
      "1    5288\n",
      "0    4468\n",
      "Name: Received At Least One Dose of Hepatitis B Vaccine, dtype: int64\n",
      "1    5683\n",
      "0    4492\n",
      "Name: Received At Least One Dose of Hepatitis B Vaccine, dtype: int64\n",
      "1    4991\n",
      "0    4980\n",
      "Name: Received At Least One Dose of Hepatitis B Vaccine, dtype: int64\n",
      "0    8012\n",
      "1    7548\n",
      "Name: Received At Least One Dose of Hepatitis B Vaccine, dtype: int64\n"
     ]
    }
   ],
   "source": [
    "# immu_data\n",
    "# for i in range(0, len(list_of_immu_names)):\n",
    "#   immu_data_list.append(pd.read_csv(\"./\" + list_of_immu_names[i]).loc[:,['SEQN','IMQ020']])\n",
    "years = [\"1999-2000\", \"2001-2002\", \"2003-2004\", \"2005-2006\", \"2007-2008\", \"2009-2010\", \"2011-2012\", \"2013-2014\", \"2015-2016\", \"2017-2020\"]\n",
    "\n",
    "percent_vaccinated_all = pd.DataFrame()\n",
    "\n",
    "for i in range(0, len(list_of_immu_names)):\n",
    "  immu_data = pd.read_csv(\"./\" + list_of_immu_names[i]).loc[:,[\"SEQN\",\"IMQ020\"]].set_index(\"SEQN\").dropna(subset=['IMQ020'])\n",
    "  \n",
    "  immu_data.IMQ020 = immu_data.IMQ020.map(lambda p: 1 if (p == 1 or p == 2) else 0)\n",
    "  \n",
    "  demo_data = pd.read_csv(\"./\" + list_of_demo_names[i]).loc[:, [\"SEQN\", \"RIDRETH1\"]].set_index(\"SEQN\")\n",
    "  grouped_data = immu_data.join(demo_data).rename(columns={\"IMQ020\":\"Received At Least One Dose of Hepatitis B Vaccine\",\"RIDRETH1\":\"Race\"})\n",
    "  percent_vacc = (grouped_data.groupby([\"Race\"]).sum()/grouped_data.groupby([\"Race\"]).count()).reset_index()\n",
    "  percent_vacc[\"Year\"] = years[i]\n",
    "  \n",
    "  percent_vaccinated_all = pd.concat([percent_vaccinated_all, percent_vacc])\n",
    "  \n",
    "\n",
    "# immu_99_00 = pd.read_csv(\"./1999_2000_Immu_NHANES.csv\").loc[:,[\"SEQN\",\"IMQ020\"]].set_index(\"SEQN\")\n",
    "# immu_99_00.IMQ020 = immu_99_00.IMQ020.map(lambda p: 1 if (p == 1 or p == 2) else 0)\n",
    "\n",
    "# demo_99_00 = pd.read_csv(\"./1999_2000_Demo_NHANES.csv\").loc[:, [\"SEQN\", \"RIDRETH1\"]].set_index(\"SEQN\")\n",
    "\n",
    "# grouped_99_00 = immu_99_00.join(demo_99_00).rename(columns={\"IMQ020\":\"Received At Least One Dose of Hepatitis B Vaccine\",\"RIDRETH1\":\"Race\"})\n",
    "# # grouped_99_00 = grouped_99_00.groupby([\"Race\"])[\"Received At Least One Dose of Hepatitis B Vaccine\"].sum() / \n",
    "# percent_vacc_99_00 = grouped_99_00.groupby([\"Race\"]).sum()/grouped_99_00.groupby([\"Race\"]).count()\n",
    "# percent_vacc_99_00[\"Year\"] = years[i]\n",
    "\n",
    "# percent_vaccined_all = pd.concat([percent_vaccined_all, percent_vacc])"
   ]
  },
  {
   "cell_type": "code",
   "execution_count": null,
   "metadata": {},
   "outputs": [],
   "source": []
  },
  {
   "cell_type": "code",
   "execution_count": 66,
   "metadata": {},
   "outputs": [
    {
     "data": {
      "application/vnd.plotly.v1+json": {
       "config": {
        "plotlyServerURL": "https://plot.ly"
       },
       "data": [
        {
         "hovertemplate": "Race=Mexican American<br>Year=%{x}<br>Received At Least One Dose of Hepatitis B Vaccine=%{y}<extra></extra>",
         "legendgroup": "Mexican American",
         "line": {
          "color": "#636efa",
          "dash": "solid"
         },
         "marker": {
          "symbol": "circle"
         },
         "mode": "lines",
         "name": "Mexican American",
         "orientation": "v",
         "showlegend": true,
         "type": "scatter",
         "x": [
          "1999-2000",
          "2001-2002",
          "2003-2004",
          "2005-2006",
          "2007-2008",
          "2009-2010",
          "2011-2012",
          "2013-2014",
          "2015-2016",
          "2017-2020"
         ],
         "xaxis": "x",
         "y": [
          0.4447391688770999,
          0.4809077809798271,
          0.5581579992060341,
          0.6188970846505093,
          0.5577190542420027,
          0.5406879194630873,
          0.5785977859778598,
          0.6017341040462427,
          0.4799583550234253,
          0.4201005025125628
         ],
         "yaxis": "y"
        },
        {
         "hovertemplate": "Race=Other Hispanic<br>Year=%{x}<br>Received At Least One Dose of Hepatitis B Vaccine=%{y}<extra></extra>",
         "legendgroup": "Other Hispanic",
         "line": {
          "color": "#EF553B",
          "dash": "solid"
         },
         "marker": {
          "symbol": "circle"
         },
         "mode": "lines",
         "name": "Other Hispanic",
         "orientation": "v",
         "showlegend": true,
         "type": "scatter",
         "x": [
          "1999-2000",
          "2001-2002",
          "2003-2004",
          "2005-2006",
          "2007-2008",
          "2009-2010",
          "2011-2012",
          "2013-2014",
          "2015-2016",
          "2017-2020"
         ],
         "xaxis": "x",
         "y": [
          0.4227504244482173,
          0.5222437137330754,
          0.530791788856305,
          0.6475644699140402,
          0.5462114904246461,
          0.5613415710503089,
          0.5678438661710037,
          0.546875,
          0.4525993883792049,
          0.44041450777202074
         ],
         "yaxis": "y"
        },
        {
         "hovertemplate": "Race=Non-Hispanic White<br>Year=%{x}<br>Received At Least One Dose of Hepatitis B Vaccine=%{y}<extra></extra>",
         "legendgroup": "Non-Hispanic White",
         "line": {
          "color": "#00cc96",
          "dash": "solid"
         },
         "marker": {
          "symbol": "circle"
         },
         "mode": "lines",
         "name": "Non-Hispanic White",
         "orientation": "v",
         "showlegend": true,
         "type": "scatter",
         "x": [
          "1999-2000",
          "2001-2002",
          "2003-2004",
          "2005-2006",
          "2007-2008",
          "2009-2010",
          "2011-2012",
          "2013-2014",
          "2015-2016",
          "2017-2020"
         ],
         "xaxis": "x",
         "y": [
          0.33145233145233144,
          0.40338688666956146,
          0.41543672876844906,
          0.464867617107943,
          0.4213851761846902,
          0.4468325791855204,
          0.48335015136226034,
          0.48666303756124113,
          0.48597521200260924,
          0.48871181938911024
         ],
         "yaxis": "y"
        },
        {
         "hovertemplate": "Race=Non-Hispanic Black<br>Year=%{x}<br>Received At Least One Dose of Hepatitis B Vaccine=%{y}<extra></extra>",
         "legendgroup": "Non-Hispanic Black",
         "line": {
          "color": "#ab63fa",
          "dash": "solid"
         },
         "marker": {
          "symbol": "circle"
         },
         "mode": "lines",
         "name": "Non-Hispanic Black",
         "orientation": "v",
         "showlegend": true,
         "type": "scatter",
         "x": [
          "1999-2000",
          "2001-2002",
          "2003-2004",
          "2005-2006",
          "2007-2008",
          "2009-2010",
          "2011-2012",
          "2013-2014",
          "2015-2016",
          "2017-2020"
         ],
         "xaxis": "x",
         "y": [
          0.4605026929982047,
          0.51473330846699,
          0.6165978220052573,
          0.6214022140221402,
          0.5395748530076888,
          0.5605518650996423,
          0.5609392471114424,
          0.6056462284958094,
          0.5190230155002349,
          0.4787701317715959
         ],
         "yaxis": "y"
        },
        {
         "hovertemplate": "Race=Other Race - Including Multi-Racial<br>Year=%{x}<br>Received At Least One Dose of Hepatitis B Vaccine=%{y}<extra></extra>",
         "legendgroup": "Other Race - Including Multi-Racial",
         "line": {
          "color": "#FFA15A",
          "dash": "solid"
         },
         "marker": {
          "symbol": "circle"
         },
         "mode": "lines",
         "name": "Other Race - Including Multi-Racial",
         "orientation": "v",
         "showlegend": true,
         "type": "scatter",
         "x": [
          "1999-2000",
          "2001-2002",
          "2003-2004",
          "2005-2006",
          "2007-2008",
          "2009-2010",
          "2011-2012",
          "2013-2014",
          "2015-2016",
          "2017-2020"
         ],
         "xaxis": "x",
         "y": [
          0.4175257731958763,
          0.5533769063180828,
          0.5536480686695279,
          0.6478599221789884,
          0.5204301075268817,
          0.583203732503888,
          0.5698022768124625,
          0.6191709844559585,
          0.5701357466063348,
          0.5622882950696274
         ],
         "yaxis": "y"
        }
       ],
       "layout": {
        "legend": {
         "title": {
          "text": "Race"
         },
         "tracegroupgap": 0
        },
        "template": {
         "data": {
          "bar": [
           {
            "error_x": {
             "color": "#2a3f5f"
            },
            "error_y": {
             "color": "#2a3f5f"
            },
            "marker": {
             "line": {
              "color": "#E5ECF6",
              "width": 0.5
             },
             "pattern": {
              "fillmode": "overlay",
              "size": 10,
              "solidity": 0.2
             }
            },
            "type": "bar"
           }
          ],
          "barpolar": [
           {
            "marker": {
             "line": {
              "color": "#E5ECF6",
              "width": 0.5
             },
             "pattern": {
              "fillmode": "overlay",
              "size": 10,
              "solidity": 0.2
             }
            },
            "type": "barpolar"
           }
          ],
          "carpet": [
           {
            "aaxis": {
             "endlinecolor": "#2a3f5f",
             "gridcolor": "white",
             "linecolor": "white",
             "minorgridcolor": "white",
             "startlinecolor": "#2a3f5f"
            },
            "baxis": {
             "endlinecolor": "#2a3f5f",
             "gridcolor": "white",
             "linecolor": "white",
             "minorgridcolor": "white",
             "startlinecolor": "#2a3f5f"
            },
            "type": "carpet"
           }
          ],
          "choropleth": [
           {
            "colorbar": {
             "outlinewidth": 0,
             "ticks": ""
            },
            "type": "choropleth"
           }
          ],
          "contour": [
           {
            "colorbar": {
             "outlinewidth": 0,
             "ticks": ""
            },
            "colorscale": [
             [
              0,
              "#0d0887"
             ],
             [
              0.1111111111111111,
              "#46039f"
             ],
             [
              0.2222222222222222,
              "#7201a8"
             ],
             [
              0.3333333333333333,
              "#9c179e"
             ],
             [
              0.4444444444444444,
              "#bd3786"
             ],
             [
              0.5555555555555556,
              "#d8576b"
             ],
             [
              0.6666666666666666,
              "#ed7953"
             ],
             [
              0.7777777777777778,
              "#fb9f3a"
             ],
             [
              0.8888888888888888,
              "#fdca26"
             ],
             [
              1,
              "#f0f921"
             ]
            ],
            "type": "contour"
           }
          ],
          "contourcarpet": [
           {
            "colorbar": {
             "outlinewidth": 0,
             "ticks": ""
            },
            "type": "contourcarpet"
           }
          ],
          "heatmap": [
           {
            "colorbar": {
             "outlinewidth": 0,
             "ticks": ""
            },
            "colorscale": [
             [
              0,
              "#0d0887"
             ],
             [
              0.1111111111111111,
              "#46039f"
             ],
             [
              0.2222222222222222,
              "#7201a8"
             ],
             [
              0.3333333333333333,
              "#9c179e"
             ],
             [
              0.4444444444444444,
              "#bd3786"
             ],
             [
              0.5555555555555556,
              "#d8576b"
             ],
             [
              0.6666666666666666,
              "#ed7953"
             ],
             [
              0.7777777777777778,
              "#fb9f3a"
             ],
             [
              0.8888888888888888,
              "#fdca26"
             ],
             [
              1,
              "#f0f921"
             ]
            ],
            "type": "heatmap"
           }
          ],
          "heatmapgl": [
           {
            "colorbar": {
             "outlinewidth": 0,
             "ticks": ""
            },
            "colorscale": [
             [
              0,
              "#0d0887"
             ],
             [
              0.1111111111111111,
              "#46039f"
             ],
             [
              0.2222222222222222,
              "#7201a8"
             ],
             [
              0.3333333333333333,
              "#9c179e"
             ],
             [
              0.4444444444444444,
              "#bd3786"
             ],
             [
              0.5555555555555556,
              "#d8576b"
             ],
             [
              0.6666666666666666,
              "#ed7953"
             ],
             [
              0.7777777777777778,
              "#fb9f3a"
             ],
             [
              0.8888888888888888,
              "#fdca26"
             ],
             [
              1,
              "#f0f921"
             ]
            ],
            "type": "heatmapgl"
           }
          ],
          "histogram": [
           {
            "marker": {
             "pattern": {
              "fillmode": "overlay",
              "size": 10,
              "solidity": 0.2
             }
            },
            "type": "histogram"
           }
          ],
          "histogram2d": [
           {
            "colorbar": {
             "outlinewidth": 0,
             "ticks": ""
            },
            "colorscale": [
             [
              0,
              "#0d0887"
             ],
             [
              0.1111111111111111,
              "#46039f"
             ],
             [
              0.2222222222222222,
              "#7201a8"
             ],
             [
              0.3333333333333333,
              "#9c179e"
             ],
             [
              0.4444444444444444,
              "#bd3786"
             ],
             [
              0.5555555555555556,
              "#d8576b"
             ],
             [
              0.6666666666666666,
              "#ed7953"
             ],
             [
              0.7777777777777778,
              "#fb9f3a"
             ],
             [
              0.8888888888888888,
              "#fdca26"
             ],
             [
              1,
              "#f0f921"
             ]
            ],
            "type": "histogram2d"
           }
          ],
          "histogram2dcontour": [
           {
            "colorbar": {
             "outlinewidth": 0,
             "ticks": ""
            },
            "colorscale": [
             [
              0,
              "#0d0887"
             ],
             [
              0.1111111111111111,
              "#46039f"
             ],
             [
              0.2222222222222222,
              "#7201a8"
             ],
             [
              0.3333333333333333,
              "#9c179e"
             ],
             [
              0.4444444444444444,
              "#bd3786"
             ],
             [
              0.5555555555555556,
              "#d8576b"
             ],
             [
              0.6666666666666666,
              "#ed7953"
             ],
             [
              0.7777777777777778,
              "#fb9f3a"
             ],
             [
              0.8888888888888888,
              "#fdca26"
             ],
             [
              1,
              "#f0f921"
             ]
            ],
            "type": "histogram2dcontour"
           }
          ],
          "mesh3d": [
           {
            "colorbar": {
             "outlinewidth": 0,
             "ticks": ""
            },
            "type": "mesh3d"
           }
          ],
          "parcoords": [
           {
            "line": {
             "colorbar": {
              "outlinewidth": 0,
              "ticks": ""
             }
            },
            "type": "parcoords"
           }
          ],
          "pie": [
           {
            "automargin": true,
            "type": "pie"
           }
          ],
          "scatter": [
           {
            "fillpattern": {
             "fillmode": "overlay",
             "size": 10,
             "solidity": 0.2
            },
            "type": "scatter"
           }
          ],
          "scatter3d": [
           {
            "line": {
             "colorbar": {
              "outlinewidth": 0,
              "ticks": ""
             }
            },
            "marker": {
             "colorbar": {
              "outlinewidth": 0,
              "ticks": ""
             }
            },
            "type": "scatter3d"
           }
          ],
          "scattercarpet": [
           {
            "marker": {
             "colorbar": {
              "outlinewidth": 0,
              "ticks": ""
             }
            },
            "type": "scattercarpet"
           }
          ],
          "scattergeo": [
           {
            "marker": {
             "colorbar": {
              "outlinewidth": 0,
              "ticks": ""
             }
            },
            "type": "scattergeo"
           }
          ],
          "scattergl": [
           {
            "marker": {
             "colorbar": {
              "outlinewidth": 0,
              "ticks": ""
             }
            },
            "type": "scattergl"
           }
          ],
          "scattermapbox": [
           {
            "marker": {
             "colorbar": {
              "outlinewidth": 0,
              "ticks": ""
             }
            },
            "type": "scattermapbox"
           }
          ],
          "scatterpolar": [
           {
            "marker": {
             "colorbar": {
              "outlinewidth": 0,
              "ticks": ""
             }
            },
            "type": "scatterpolar"
           }
          ],
          "scatterpolargl": [
           {
            "marker": {
             "colorbar": {
              "outlinewidth": 0,
              "ticks": ""
             }
            },
            "type": "scatterpolargl"
           }
          ],
          "scatterternary": [
           {
            "marker": {
             "colorbar": {
              "outlinewidth": 0,
              "ticks": ""
             }
            },
            "type": "scatterternary"
           }
          ],
          "surface": [
           {
            "colorbar": {
             "outlinewidth": 0,
             "ticks": ""
            },
            "colorscale": [
             [
              0,
              "#0d0887"
             ],
             [
              0.1111111111111111,
              "#46039f"
             ],
             [
              0.2222222222222222,
              "#7201a8"
             ],
             [
              0.3333333333333333,
              "#9c179e"
             ],
             [
              0.4444444444444444,
              "#bd3786"
             ],
             [
              0.5555555555555556,
              "#d8576b"
             ],
             [
              0.6666666666666666,
              "#ed7953"
             ],
             [
              0.7777777777777778,
              "#fb9f3a"
             ],
             [
              0.8888888888888888,
              "#fdca26"
             ],
             [
              1,
              "#f0f921"
             ]
            ],
            "type": "surface"
           }
          ],
          "table": [
           {
            "cells": {
             "fill": {
              "color": "#EBF0F8"
             },
             "line": {
              "color": "white"
             }
            },
            "header": {
             "fill": {
              "color": "#C8D4E3"
             },
             "line": {
              "color": "white"
             }
            },
            "type": "table"
           }
          ]
         },
         "layout": {
          "annotationdefaults": {
           "arrowcolor": "#2a3f5f",
           "arrowhead": 0,
           "arrowwidth": 1
          },
          "autotypenumbers": "strict",
          "coloraxis": {
           "colorbar": {
            "outlinewidth": 0,
            "ticks": ""
           }
          },
          "colorscale": {
           "diverging": [
            [
             0,
             "#8e0152"
            ],
            [
             0.1,
             "#c51b7d"
            ],
            [
             0.2,
             "#de77ae"
            ],
            [
             0.3,
             "#f1b6da"
            ],
            [
             0.4,
             "#fde0ef"
            ],
            [
             0.5,
             "#f7f7f7"
            ],
            [
             0.6,
             "#e6f5d0"
            ],
            [
             0.7,
             "#b8e186"
            ],
            [
             0.8,
             "#7fbc41"
            ],
            [
             0.9,
             "#4d9221"
            ],
            [
             1,
             "#276419"
            ]
           ],
           "sequential": [
            [
             0,
             "#0d0887"
            ],
            [
             0.1111111111111111,
             "#46039f"
            ],
            [
             0.2222222222222222,
             "#7201a8"
            ],
            [
             0.3333333333333333,
             "#9c179e"
            ],
            [
             0.4444444444444444,
             "#bd3786"
            ],
            [
             0.5555555555555556,
             "#d8576b"
            ],
            [
             0.6666666666666666,
             "#ed7953"
            ],
            [
             0.7777777777777778,
             "#fb9f3a"
            ],
            [
             0.8888888888888888,
             "#fdca26"
            ],
            [
             1,
             "#f0f921"
            ]
           ],
           "sequentialminus": [
            [
             0,
             "#0d0887"
            ],
            [
             0.1111111111111111,
             "#46039f"
            ],
            [
             0.2222222222222222,
             "#7201a8"
            ],
            [
             0.3333333333333333,
             "#9c179e"
            ],
            [
             0.4444444444444444,
             "#bd3786"
            ],
            [
             0.5555555555555556,
             "#d8576b"
            ],
            [
             0.6666666666666666,
             "#ed7953"
            ],
            [
             0.7777777777777778,
             "#fb9f3a"
            ],
            [
             0.8888888888888888,
             "#fdca26"
            ],
            [
             1,
             "#f0f921"
            ]
           ]
          },
          "colorway": [
           "#636efa",
           "#EF553B",
           "#00cc96",
           "#ab63fa",
           "#FFA15A",
           "#19d3f3",
           "#FF6692",
           "#B6E880",
           "#FF97FF",
           "#FECB52"
          ],
          "font": {
           "color": "#2a3f5f"
          },
          "geo": {
           "bgcolor": "white",
           "lakecolor": "white",
           "landcolor": "#E5ECF6",
           "showlakes": true,
           "showland": true,
           "subunitcolor": "white"
          },
          "hoverlabel": {
           "align": "left"
          },
          "hovermode": "closest",
          "mapbox": {
           "style": "light"
          },
          "paper_bgcolor": "white",
          "plot_bgcolor": "#E5ECF6",
          "polar": {
           "angularaxis": {
            "gridcolor": "white",
            "linecolor": "white",
            "ticks": ""
           },
           "bgcolor": "#E5ECF6",
           "radialaxis": {
            "gridcolor": "white",
            "linecolor": "white",
            "ticks": ""
           }
          },
          "scene": {
           "xaxis": {
            "backgroundcolor": "#E5ECF6",
            "gridcolor": "white",
            "gridwidth": 2,
            "linecolor": "white",
            "showbackground": true,
            "ticks": "",
            "zerolinecolor": "white"
           },
           "yaxis": {
            "backgroundcolor": "#E5ECF6",
            "gridcolor": "white",
            "gridwidth": 2,
            "linecolor": "white",
            "showbackground": true,
            "ticks": "",
            "zerolinecolor": "white"
           },
           "zaxis": {
            "backgroundcolor": "#E5ECF6",
            "gridcolor": "white",
            "gridwidth": 2,
            "linecolor": "white",
            "showbackground": true,
            "ticks": "",
            "zerolinecolor": "white"
           }
          },
          "shapedefaults": {
           "line": {
            "color": "#2a3f5f"
           }
          },
          "ternary": {
           "aaxis": {
            "gridcolor": "white",
            "linecolor": "white",
            "ticks": ""
           },
           "baxis": {
            "gridcolor": "white",
            "linecolor": "white",
            "ticks": ""
           },
           "bgcolor": "#E5ECF6",
           "caxis": {
            "gridcolor": "white",
            "linecolor": "white",
            "ticks": ""
           }
          },
          "title": {
           "x": 0.05
          },
          "xaxis": {
           "automargin": true,
           "gridcolor": "white",
           "linecolor": "white",
           "ticks": "",
           "title": {
            "standoff": 15
           },
           "zerolinecolor": "white",
           "zerolinewidth": 2
          },
          "yaxis": {
           "automargin": true,
           "gridcolor": "white",
           "linecolor": "white",
           "ticks": "",
           "title": {
            "standoff": 15
           },
           "zerolinecolor": "white",
           "zerolinewidth": 2
          }
         }
        },
        "title": {
         "text": "Percent of Each Race Vaccinated for Hepatitis B"
        },
        "xaxis": {
         "anchor": "y",
         "domain": [
          0,
          1
         ],
         "title": {
          "text": "Year"
         }
        },
        "yaxis": {
         "anchor": "x",
         "domain": [
          0,
          1
         ],
         "title": {
          "text": "Received At Least One Dose of Hepatitis B Vaccine"
         }
        }
       }
      },
      "text/html": [
       "<div>                            <div id=\"141a501f-db9f-438b-93a9-a0bd1c10a14f\" class=\"plotly-graph-div\" style=\"height:525px; width:100%;\"></div>            <script type=\"text/javascript\">                require([\"plotly\"], function(Plotly) {                    window.PLOTLYENV=window.PLOTLYENV || {};                                    if (document.getElementById(\"141a501f-db9f-438b-93a9-a0bd1c10a14f\")) {                    Plotly.newPlot(                        \"141a501f-db9f-438b-93a9-a0bd1c10a14f\",                        [{\"hovertemplate\":\"Race=Mexican American<br>Year=%{x}<br>Received At Least One Dose of Hepatitis B Vaccine=%{y}<extra></extra>\",\"legendgroup\":\"Mexican American\",\"line\":{\"color\":\"#636efa\",\"dash\":\"solid\"},\"marker\":{\"symbol\":\"circle\"},\"mode\":\"lines\",\"name\":\"Mexican American\",\"orientation\":\"v\",\"showlegend\":true,\"x\":[\"1999-2000\",\"2001-2002\",\"2003-2004\",\"2005-2006\",\"2007-2008\",\"2009-2010\",\"2011-2012\",\"2013-2014\",\"2015-2016\",\"2017-2020\"],\"xaxis\":\"x\",\"y\":[0.4447391688770999,0.4809077809798271,0.5581579992060341,0.6188970846505093,0.5577190542420027,0.5406879194630873,0.5785977859778598,0.6017341040462427,0.4799583550234253,0.4201005025125628],\"yaxis\":\"y\",\"type\":\"scatter\"},{\"hovertemplate\":\"Race=Other Hispanic<br>Year=%{x}<br>Received At Least One Dose of Hepatitis B Vaccine=%{y}<extra></extra>\",\"legendgroup\":\"Other Hispanic\",\"line\":{\"color\":\"#EF553B\",\"dash\":\"solid\"},\"marker\":{\"symbol\":\"circle\"},\"mode\":\"lines\",\"name\":\"Other Hispanic\",\"orientation\":\"v\",\"showlegend\":true,\"x\":[\"1999-2000\",\"2001-2002\",\"2003-2004\",\"2005-2006\",\"2007-2008\",\"2009-2010\",\"2011-2012\",\"2013-2014\",\"2015-2016\",\"2017-2020\"],\"xaxis\":\"x\",\"y\":[0.4227504244482173,0.5222437137330754,0.530791788856305,0.6475644699140402,0.5462114904246461,0.5613415710503089,0.5678438661710037,0.546875,0.4525993883792049,0.44041450777202074],\"yaxis\":\"y\",\"type\":\"scatter\"},{\"hovertemplate\":\"Race=Non-Hispanic White<br>Year=%{x}<br>Received At Least One Dose of Hepatitis B Vaccine=%{y}<extra></extra>\",\"legendgroup\":\"Non-Hispanic White\",\"line\":{\"color\":\"#00cc96\",\"dash\":\"solid\"},\"marker\":{\"symbol\":\"circle\"},\"mode\":\"lines\",\"name\":\"Non-Hispanic White\",\"orientation\":\"v\",\"showlegend\":true,\"x\":[\"1999-2000\",\"2001-2002\",\"2003-2004\",\"2005-2006\",\"2007-2008\",\"2009-2010\",\"2011-2012\",\"2013-2014\",\"2015-2016\",\"2017-2020\"],\"xaxis\":\"x\",\"y\":[0.33145233145233144,0.40338688666956146,0.41543672876844906,0.464867617107943,0.4213851761846902,0.4468325791855204,0.48335015136226034,0.48666303756124113,0.48597521200260924,0.48871181938911024],\"yaxis\":\"y\",\"type\":\"scatter\"},{\"hovertemplate\":\"Race=Non-Hispanic Black<br>Year=%{x}<br>Received At Least One Dose of Hepatitis B Vaccine=%{y}<extra></extra>\",\"legendgroup\":\"Non-Hispanic Black\",\"line\":{\"color\":\"#ab63fa\",\"dash\":\"solid\"},\"marker\":{\"symbol\":\"circle\"},\"mode\":\"lines\",\"name\":\"Non-Hispanic Black\",\"orientation\":\"v\",\"showlegend\":true,\"x\":[\"1999-2000\",\"2001-2002\",\"2003-2004\",\"2005-2006\",\"2007-2008\",\"2009-2010\",\"2011-2012\",\"2013-2014\",\"2015-2016\",\"2017-2020\"],\"xaxis\":\"x\",\"y\":[0.4605026929982047,0.51473330846699,0.6165978220052573,0.6214022140221402,0.5395748530076888,0.5605518650996423,0.5609392471114424,0.6056462284958094,0.5190230155002349,0.4787701317715959],\"yaxis\":\"y\",\"type\":\"scatter\"},{\"hovertemplate\":\"Race=Other Race - Including Multi-Racial<br>Year=%{x}<br>Received At Least One Dose of Hepatitis B Vaccine=%{y}<extra></extra>\",\"legendgroup\":\"Other Race - Including Multi-Racial\",\"line\":{\"color\":\"#FFA15A\",\"dash\":\"solid\"},\"marker\":{\"symbol\":\"circle\"},\"mode\":\"lines\",\"name\":\"Other Race - Including Multi-Racial\",\"orientation\":\"v\",\"showlegend\":true,\"x\":[\"1999-2000\",\"2001-2002\",\"2003-2004\",\"2005-2006\",\"2007-2008\",\"2009-2010\",\"2011-2012\",\"2013-2014\",\"2015-2016\",\"2017-2020\"],\"xaxis\":\"x\",\"y\":[0.4175257731958763,0.5533769063180828,0.5536480686695279,0.6478599221789884,0.5204301075268817,0.583203732503888,0.5698022768124625,0.6191709844559585,0.5701357466063348,0.5622882950696274],\"yaxis\":\"y\",\"type\":\"scatter\"}],                        {\"template\":{\"data\":{\"histogram2dcontour\":[{\"type\":\"histogram2dcontour\",\"colorbar\":{\"outlinewidth\":0,\"ticks\":\"\"},\"colorscale\":[[0.0,\"#0d0887\"],[0.1111111111111111,\"#46039f\"],[0.2222222222222222,\"#7201a8\"],[0.3333333333333333,\"#9c179e\"],[0.4444444444444444,\"#bd3786\"],[0.5555555555555556,\"#d8576b\"],[0.6666666666666666,\"#ed7953\"],[0.7777777777777778,\"#fb9f3a\"],[0.8888888888888888,\"#fdca26\"],[1.0,\"#f0f921\"]]}],\"choropleth\":[{\"type\":\"choropleth\",\"colorbar\":{\"outlinewidth\":0,\"ticks\":\"\"}}],\"histogram2d\":[{\"type\":\"histogram2d\",\"colorbar\":{\"outlinewidth\":0,\"ticks\":\"\"},\"colorscale\":[[0.0,\"#0d0887\"],[0.1111111111111111,\"#46039f\"],[0.2222222222222222,\"#7201a8\"],[0.3333333333333333,\"#9c179e\"],[0.4444444444444444,\"#bd3786\"],[0.5555555555555556,\"#d8576b\"],[0.6666666666666666,\"#ed7953\"],[0.7777777777777778,\"#fb9f3a\"],[0.8888888888888888,\"#fdca26\"],[1.0,\"#f0f921\"]]}],\"heatmap\":[{\"type\":\"heatmap\",\"colorbar\":{\"outlinewidth\":0,\"ticks\":\"\"},\"colorscale\":[[0.0,\"#0d0887\"],[0.1111111111111111,\"#46039f\"],[0.2222222222222222,\"#7201a8\"],[0.3333333333333333,\"#9c179e\"],[0.4444444444444444,\"#bd3786\"],[0.5555555555555556,\"#d8576b\"],[0.6666666666666666,\"#ed7953\"],[0.7777777777777778,\"#fb9f3a\"],[0.8888888888888888,\"#fdca26\"],[1.0,\"#f0f921\"]]}],\"heatmapgl\":[{\"type\":\"heatmapgl\",\"colorbar\":{\"outlinewidth\":0,\"ticks\":\"\"},\"colorscale\":[[0.0,\"#0d0887\"],[0.1111111111111111,\"#46039f\"],[0.2222222222222222,\"#7201a8\"],[0.3333333333333333,\"#9c179e\"],[0.4444444444444444,\"#bd3786\"],[0.5555555555555556,\"#d8576b\"],[0.6666666666666666,\"#ed7953\"],[0.7777777777777778,\"#fb9f3a\"],[0.8888888888888888,\"#fdca26\"],[1.0,\"#f0f921\"]]}],\"contourcarpet\":[{\"type\":\"contourcarpet\",\"colorbar\":{\"outlinewidth\":0,\"ticks\":\"\"}}],\"contour\":[{\"type\":\"contour\",\"colorbar\":{\"outlinewidth\":0,\"ticks\":\"\"},\"colorscale\":[[0.0,\"#0d0887\"],[0.1111111111111111,\"#46039f\"],[0.2222222222222222,\"#7201a8\"],[0.3333333333333333,\"#9c179e\"],[0.4444444444444444,\"#bd3786\"],[0.5555555555555556,\"#d8576b\"],[0.6666666666666666,\"#ed7953\"],[0.7777777777777778,\"#fb9f3a\"],[0.8888888888888888,\"#fdca26\"],[1.0,\"#f0f921\"]]}],\"surface\":[{\"type\":\"surface\",\"colorbar\":{\"outlinewidth\":0,\"ticks\":\"\"},\"colorscale\":[[0.0,\"#0d0887\"],[0.1111111111111111,\"#46039f\"],[0.2222222222222222,\"#7201a8\"],[0.3333333333333333,\"#9c179e\"],[0.4444444444444444,\"#bd3786\"],[0.5555555555555556,\"#d8576b\"],[0.6666666666666666,\"#ed7953\"],[0.7777777777777778,\"#fb9f3a\"],[0.8888888888888888,\"#fdca26\"],[1.0,\"#f0f921\"]]}],\"mesh3d\":[{\"type\":\"mesh3d\",\"colorbar\":{\"outlinewidth\":0,\"ticks\":\"\"}}],\"scatter\":[{\"fillpattern\":{\"fillmode\":\"overlay\",\"size\":10,\"solidity\":0.2},\"type\":\"scatter\"}],\"parcoords\":[{\"type\":\"parcoords\",\"line\":{\"colorbar\":{\"outlinewidth\":0,\"ticks\":\"\"}}}],\"scatterpolargl\":[{\"type\":\"scatterpolargl\",\"marker\":{\"colorbar\":{\"outlinewidth\":0,\"ticks\":\"\"}}}],\"bar\":[{\"error_x\":{\"color\":\"#2a3f5f\"},\"error_y\":{\"color\":\"#2a3f5f\"},\"marker\":{\"line\":{\"color\":\"#E5ECF6\",\"width\":0.5},\"pattern\":{\"fillmode\":\"overlay\",\"size\":10,\"solidity\":0.2}},\"type\":\"bar\"}],\"scattergeo\":[{\"type\":\"scattergeo\",\"marker\":{\"colorbar\":{\"outlinewidth\":0,\"ticks\":\"\"}}}],\"scatterpolar\":[{\"type\":\"scatterpolar\",\"marker\":{\"colorbar\":{\"outlinewidth\":0,\"ticks\":\"\"}}}],\"histogram\":[{\"marker\":{\"pattern\":{\"fillmode\":\"overlay\",\"size\":10,\"solidity\":0.2}},\"type\":\"histogram\"}],\"scattergl\":[{\"type\":\"scattergl\",\"marker\":{\"colorbar\":{\"outlinewidth\":0,\"ticks\":\"\"}}}],\"scatter3d\":[{\"type\":\"scatter3d\",\"line\":{\"colorbar\":{\"outlinewidth\":0,\"ticks\":\"\"}},\"marker\":{\"colorbar\":{\"outlinewidth\":0,\"ticks\":\"\"}}}],\"scattermapbox\":[{\"type\":\"scattermapbox\",\"marker\":{\"colorbar\":{\"outlinewidth\":0,\"ticks\":\"\"}}}],\"scatterternary\":[{\"type\":\"scatterternary\",\"marker\":{\"colorbar\":{\"outlinewidth\":0,\"ticks\":\"\"}}}],\"scattercarpet\":[{\"type\":\"scattercarpet\",\"marker\":{\"colorbar\":{\"outlinewidth\":0,\"ticks\":\"\"}}}],\"carpet\":[{\"aaxis\":{\"endlinecolor\":\"#2a3f5f\",\"gridcolor\":\"white\",\"linecolor\":\"white\",\"minorgridcolor\":\"white\",\"startlinecolor\":\"#2a3f5f\"},\"baxis\":{\"endlinecolor\":\"#2a3f5f\",\"gridcolor\":\"white\",\"linecolor\":\"white\",\"minorgridcolor\":\"white\",\"startlinecolor\":\"#2a3f5f\"},\"type\":\"carpet\"}],\"table\":[{\"cells\":{\"fill\":{\"color\":\"#EBF0F8\"},\"line\":{\"color\":\"white\"}},\"header\":{\"fill\":{\"color\":\"#C8D4E3\"},\"line\":{\"color\":\"white\"}},\"type\":\"table\"}],\"barpolar\":[{\"marker\":{\"line\":{\"color\":\"#E5ECF6\",\"width\":0.5},\"pattern\":{\"fillmode\":\"overlay\",\"size\":10,\"solidity\":0.2}},\"type\":\"barpolar\"}],\"pie\":[{\"automargin\":true,\"type\":\"pie\"}]},\"layout\":{\"autotypenumbers\":\"strict\",\"colorway\":[\"#636efa\",\"#EF553B\",\"#00cc96\",\"#ab63fa\",\"#FFA15A\",\"#19d3f3\",\"#FF6692\",\"#B6E880\",\"#FF97FF\",\"#FECB52\"],\"font\":{\"color\":\"#2a3f5f\"},\"hovermode\":\"closest\",\"hoverlabel\":{\"align\":\"left\"},\"paper_bgcolor\":\"white\",\"plot_bgcolor\":\"#E5ECF6\",\"polar\":{\"bgcolor\":\"#E5ECF6\",\"angularaxis\":{\"gridcolor\":\"white\",\"linecolor\":\"white\",\"ticks\":\"\"},\"radialaxis\":{\"gridcolor\":\"white\",\"linecolor\":\"white\",\"ticks\":\"\"}},\"ternary\":{\"bgcolor\":\"#E5ECF6\",\"aaxis\":{\"gridcolor\":\"white\",\"linecolor\":\"white\",\"ticks\":\"\"},\"baxis\":{\"gridcolor\":\"white\",\"linecolor\":\"white\",\"ticks\":\"\"},\"caxis\":{\"gridcolor\":\"white\",\"linecolor\":\"white\",\"ticks\":\"\"}},\"coloraxis\":{\"colorbar\":{\"outlinewidth\":0,\"ticks\":\"\"}},\"colorscale\":{\"sequential\":[[0.0,\"#0d0887\"],[0.1111111111111111,\"#46039f\"],[0.2222222222222222,\"#7201a8\"],[0.3333333333333333,\"#9c179e\"],[0.4444444444444444,\"#bd3786\"],[0.5555555555555556,\"#d8576b\"],[0.6666666666666666,\"#ed7953\"],[0.7777777777777778,\"#fb9f3a\"],[0.8888888888888888,\"#fdca26\"],[1.0,\"#f0f921\"]],\"sequentialminus\":[[0.0,\"#0d0887\"],[0.1111111111111111,\"#46039f\"],[0.2222222222222222,\"#7201a8\"],[0.3333333333333333,\"#9c179e\"],[0.4444444444444444,\"#bd3786\"],[0.5555555555555556,\"#d8576b\"],[0.6666666666666666,\"#ed7953\"],[0.7777777777777778,\"#fb9f3a\"],[0.8888888888888888,\"#fdca26\"],[1.0,\"#f0f921\"]],\"diverging\":[[0,\"#8e0152\"],[0.1,\"#c51b7d\"],[0.2,\"#de77ae\"],[0.3,\"#f1b6da\"],[0.4,\"#fde0ef\"],[0.5,\"#f7f7f7\"],[0.6,\"#e6f5d0\"],[0.7,\"#b8e186\"],[0.8,\"#7fbc41\"],[0.9,\"#4d9221\"],[1,\"#276419\"]]},\"xaxis\":{\"gridcolor\":\"white\",\"linecolor\":\"white\",\"ticks\":\"\",\"title\":{\"standoff\":15},\"zerolinecolor\":\"white\",\"automargin\":true,\"zerolinewidth\":2},\"yaxis\":{\"gridcolor\":\"white\",\"linecolor\":\"white\",\"ticks\":\"\",\"title\":{\"standoff\":15},\"zerolinecolor\":\"white\",\"automargin\":true,\"zerolinewidth\":2},\"scene\":{\"xaxis\":{\"backgroundcolor\":\"#E5ECF6\",\"gridcolor\":\"white\",\"linecolor\":\"white\",\"showbackground\":true,\"ticks\":\"\",\"zerolinecolor\":\"white\",\"gridwidth\":2},\"yaxis\":{\"backgroundcolor\":\"#E5ECF6\",\"gridcolor\":\"white\",\"linecolor\":\"white\",\"showbackground\":true,\"ticks\":\"\",\"zerolinecolor\":\"white\",\"gridwidth\":2},\"zaxis\":{\"backgroundcolor\":\"#E5ECF6\",\"gridcolor\":\"white\",\"linecolor\":\"white\",\"showbackground\":true,\"ticks\":\"\",\"zerolinecolor\":\"white\",\"gridwidth\":2}},\"shapedefaults\":{\"line\":{\"color\":\"#2a3f5f\"}},\"annotationdefaults\":{\"arrowcolor\":\"#2a3f5f\",\"arrowhead\":0,\"arrowwidth\":1},\"geo\":{\"bgcolor\":\"white\",\"landcolor\":\"#E5ECF6\",\"subunitcolor\":\"white\",\"showland\":true,\"showlakes\":true,\"lakecolor\":\"white\"},\"title\":{\"x\":0.05},\"mapbox\":{\"style\":\"light\"}}},\"xaxis\":{\"anchor\":\"y\",\"domain\":[0.0,1.0],\"title\":{\"text\":\"Year\"}},\"yaxis\":{\"anchor\":\"x\",\"domain\":[0.0,1.0],\"title\":{\"text\":\"Received At Least One Dose of Hepatitis B Vaccine\"}},\"legend\":{\"title\":{\"text\":\"Race\"},\"tracegroupgap\":0},\"title\":{\"text\":\"Percent of Each Race Vaccinated for Hepatitis B\"}},                        {\"responsive\": true}                    ).then(function(){\n",
       "                            \n",
       "var gd = document.getElementById('141a501f-db9f-438b-93a9-a0bd1c10a14f');\n",
       "var x = new MutationObserver(function (mutations, observer) {{\n",
       "        var display = window.getComputedStyle(gd).display;\n",
       "        if (!display || display === 'none') {{\n",
       "            console.log([gd, 'removed!']);\n",
       "            Plotly.purge(gd);\n",
       "            observer.disconnect();\n",
       "        }}\n",
       "}});\n",
       "\n",
       "// Listen for the removal of the full notebook cells\n",
       "var notebookContainer = gd.closest('#notebook-container');\n",
       "if (notebookContainer) {{\n",
       "    x.observe(notebookContainer, {childList: true});\n",
       "}}\n",
       "\n",
       "// Listen for the clearing of the current output cell\n",
       "var outputEl = gd.closest('.output');\n",
       "if (outputEl) {{\n",
       "    x.observe(outputEl, {childList: true});\n",
       "}}\n",
       "\n",
       "                        })                };                });            </script>        </div>"
      ]
     },
     "metadata": {},
     "output_type": "display_data"
    }
   ],
   "source": [
    "import plotly.express as px\n",
    "import seaborn as sns\n",
    "import matplotlib.pyplot as plt\n",
    "%matplotlib inline\n",
    "\n",
    "fig = px.line(percent_vaccinated_all,\n",
    "              x=\"Year\",\n",
    "              y=\"Received At Least One Dose of Hepatitis B Vaccine\",\n",
    "              color=\"Race\",\n",
    "              title=\"Percent of Each Race Vaccinated for Hepatitis B\"\n",
    "              )\n",
    "newnames = {\"1.0\":\"Mexican American\",\n",
    "                \"2.0\":\"Other Hispanic\",\n",
    "                \"3.0\":\"Non-Hispanic White\",\n",
    "                \"4.0\":\"Non-Hispanic Black\",\n",
    "                \"5.0\":\"Other Race - Including Multi-Racial\"}\n",
    "fig = fig.for_each_trace(lambda t: t.update(name = newnames[t.name],\n",
    "                                      legendgroup = newnames[t.name],\n",
    "                                      hovertemplate = t.hovertemplate.replace(t.name, newnames[t.name])\n",
    "                                    )\n",
    "                        )\n",
    "fig.write_html(\"./HTML_Graphs/Percent_Vaccinated_By_Race_Over_Time.html\")\n",
    "fig.show()"
   ]
  }
 ],
 "metadata": {
  "kernelspec": {
   "display_name": "Python 3.8.10 64-bit",
   "language": "python",
   "name": "python3"
  },
  "language_info": {
   "codemirror_mode": {
    "name": "ipython",
    "version": 3
   },
   "file_extension": ".py",
   "mimetype": "text/x-python",
   "name": "python",
   "nbconvert_exporter": "python",
   "pygments_lexer": "ipython3",
   "version": "3.8.10"
  },
  "orig_nbformat": 4,
  "vscode": {
   "interpreter": {
    "hash": "916dbcbb3f70747c44a77c7bcd40155683ae19c65e1c03b4aa3499c5328201f1"
   }
  }
 },
 "nbformat": 4,
 "nbformat_minor": 2
}
