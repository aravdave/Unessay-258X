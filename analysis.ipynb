{
 "cells": [
  {
   "cell_type": "code",
   "execution_count": 2,
   "metadata": {},
   "outputs": [],
   "source": [
    "import pandas as pd\n",
    "import os\n",
    "import re\n",
    "\n",
    "rootdir = \"/home/arav/Unessay/\"\n",
    "\n",
    "regex_demo = re.compile('.*Demo.*')\n",
    "regex_immu = re.compile('.*Immu.*')\n",
    "\n",
    "list_of_demo_names = []\n",
    "list_of_immu_names = []\n",
    "\n",
    "for root, dirs, files in os.walk(rootdir):\n",
    "  for file in files:\n",
    "    if regex_demo.match(file):\n",
    "      list_of_demo_names.append(file)\n",
    "list_of_demo_names.sort()\n",
    "\n",
    "for root, dirs, files in os.walk(rootdir):\n",
    "  for file in files:\n",
    "    if regex_immu.match(file):\n",
    "      list_of_immu_names.append(file)\n",
    "list_of_immu_names.sort()\n",
    " \n",
    "  \n",
    "# df_99_00_demo = pd.read_csv(\"./1999_2000_Demo_NHANES.csv\").loc[:, ['SEQN', ]]"
   ]
  },
  {
   "cell_type": "code",
   "execution_count": 3,
   "metadata": {},
   "outputs": [],
   "source": [
    "col_names_across_demo_data = list()\n",
    "for i in range(0,len(list_of_demo_names)-1):\n",
    "  first_df = list(pd.read_csv(\"./\" + list_of_demo_names[i]).columns.values)\n",
    "  second_df = list(pd.read_csv(\"./\" + list_of_demo_names[i+1]).columns.values)\n",
    "  col_names_across_demo_data += first_df\n",
    "  col_names_across_demo_data += second_df\n",
    "demo_col_count = pd.Series(col_names_across_demo_data).value_counts()"
   ]
  },
  {
   "cell_type": "code",
   "execution_count": 4,
   "metadata": {},
   "outputs": [],
   "source": [
    "col_names_across_immu_data = list()\n",
    "for i in range(0,len(list_of_immu_names)-1):\n",
    "  first_df = list(pd.read_csv(\"./\" + list_of_immu_names[i]).columns.values)\n",
    "  second_df = list(pd.read_csv(\"./\" + list_of_immu_names[i+1]).columns.values)\n",
    "  col_names_across_immu_data += first_df\n",
    "  col_names_across_immu_data += second_df\n",
    "immu_col_count = pd.Series(col_names_across_immu_data).value_counts()"
   ]
  },
  {
   "cell_type": "code",
   "execution_count": 5,
   "metadata": {},
   "outputs": [
    {
     "data": {
      "text/plain": [
       "1.0         2\n",
       "71755.0     2\n",
       "71754.0     2\n",
       "71753.0     2\n",
       "71752.0     2\n",
       "           ..\n",
       "35869.0     2\n",
       "35868.0     2\n",
       "35867.0     2\n",
       "35891.0     2\n",
       "124822.0    2\n",
       "Length: 107622, dtype: int64"
      ]
     },
     "execution_count": 5,
     "metadata": {},
     "output_type": "execute_result"
    }
   ],
   "source": [
    "# Check that all SEQN numbers are unique across demographic and immunization data\n",
    "SEQN_list = []\n",
    "for i in range(0, len(list_of_demo_names)):\n",
    "  df = list(pd.read_csv(\"./\" + list_of_demo_names[i]).SEQN)\n",
    "  SEQN_list += df\n",
    "  \n",
    "for i in range(0, len(list_of_immu_names)):\n",
    "  df = list(pd.read_csv(\"./\" + list_of_immu_names[i]).SEQN)\n",
    "  SEQN_list += df\n",
    "\n",
    "SEQN_list.sort()\n",
    "SEQN_unique_sanity_check = pd.Series(SEQN_list).value_counts(ascending=True)\n",
    "SEQN_unique_sanity_check\n",
    "\n",
    "# This confirms that each participant number is used twice in both the demographic and immunization data"
   ]
  },
  {
   "cell_type": "code",
   "execution_count": null,
   "metadata": {},
   "outputs": [],
   "source": [
    "immu_data_list = []\n",
    "for i in range(0, len(list_of_immu_names)):\n",
    "  immu_data_list.append(pd.read_csv(\"./\" + list_of_immu_names[i]).loc[:,['SEQN','']])"
   ]
  }
 ],
 "metadata": {
  "kernelspec": {
   "display_name": "Python 3.8.10 64-bit",
   "language": "python",
   "name": "python3"
  },
  "language_info": {
   "codemirror_mode": {
    "name": "ipython",
    "version": 3
   },
   "file_extension": ".py",
   "mimetype": "text/x-python",
   "name": "python",
   "nbconvert_exporter": "python",
   "pygments_lexer": "ipython3",
   "version": "3.8.10"
  },
  "orig_nbformat": 4,
  "vscode": {
   "interpreter": {
    "hash": "916dbcbb3f70747c44a77c7bcd40155683ae19c65e1c03b4aa3499c5328201f1"
   }
  }
 },
 "nbformat": 4,
 "nbformat_minor": 2
}
